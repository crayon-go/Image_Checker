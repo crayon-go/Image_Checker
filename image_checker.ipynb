{
 "cells": [
  {
   "cell_type": "code",
   "execution_count": 1,
   "id": "4c3aa2c0",
   "metadata": {},
   "outputs": [],
   "source": [
    "import os\n",
    "from PIL import Image\n",
    "from itertools import compress"
   ]
  },
  {
   "cell_type": "code",
   "execution_count": 2,
   "id": "13b710d8",
   "metadata": {},
   "outputs": [],
   "source": [
    "def is_corrupted_img(file):\n",
    "    try:\n",
    "        img = Image.open(file)\n",
    "        img.verify()\n",
    "        return img is None\n",
    "    except:\n",
    "        return True"
   ]
  },
  {
   "cell_type": "code",
   "execution_count": 3,
   "id": "db2277ff",
   "metadata": {},
   "outputs": [],
   "source": [
    "def read_files(path, exts):\n",
    "    files = []\n",
    "    for r, d, f in os.walk(path):\n",
    "        for file in f:\n",
    "            if file.lower().endswith(exts):\n",
    "                file = os.path.join(r, file)\n",
    "                file = os.path.abspath(file)\n",
    "                file = file.replace(os.sep, \"/\")\n",
    "                files.append(file)\n",
    "    return files"
   ]
  },
  {
   "cell_type": "code",
   "execution_count": 4,
   "id": "f23b95fe",
   "metadata": {},
   "outputs": [],
   "source": [
    "def search_corrputed_imgs(path,\n",
    "                          exts=(\"jpg\",\n",
    "                                \"png\",\n",
    "                                \"jpeg\",\n",
    "                                \"bmp\",\n",
    "                                \"tif\",\n",
    "                                \"tiff\")\n",
    "                          ):\n",
    "    exts = tuple(exts)\n",
    "    imgs = read_files(path, exts)\n",
    "    corrupted_imgs = []\n",
    "    if len(imgs) > 0:\n",
    "            is_corrupted = list(map(is_corrupted_img, imgs))\n",
    "            corrupted_imgs = list(compress(imgs, is_corrupted))\n",
    "    return corrupted_imgs"
   ]
  },
  {
   "cell_type": "code",
   "execution_count": 5,
   "id": "f18923a4",
   "metadata": {},
   "outputs": [
    {
     "name": "stdout",
     "output_type": "stream",
     "text": [
      "There are no corrupted image files! All images were loaded successfully using PIL.Image.open!\n"
     ]
    }
   ],
   "source": [
    "path = \"./data\"\n",
    "exts = \"jpg\"\n",
    "output_path = \"./data\"\n",
    "\n",
    "corrupted_imgs = search_corrputed_imgs(path=path,\n",
    "                                       exts=exts)\n",
    "\n",
    "if len(corrupted_imgs) == 0:\n",
    "    print(\"There are no corrupted image files! All images were loaded successfully using PIL.Image.open!\")\n",
    "else:\n",
    "    corrupted_imgs = \"\\n\".join(corrupted_imgs)\n",
    "\n",
    "    print(\"Corrupted image files are detected!\")\n",
    "    print(corrupted_imgs)\n",
    "\n",
    "    output = os.path.join(os.path.abspath(output_path), \"corrupted_imgs_list.txt\")"
   ]
  },
  {
   "cell_type": "code",
   "execution_count": null,
   "id": "18f3e179",
   "metadata": {},
   "outputs": [],
   "source": []
  }
 ],
 "metadata": {
  "kernelspec": {
   "display_name": "hackerrank",
   "language": "python",
   "name": "hackerrank"
  },
  "language_info": {
   "codemirror_mode": {
    "name": "ipython",
    "version": 3
   },
   "file_extension": ".py",
   "mimetype": "text/x-python",
   "name": "python",
   "nbconvert_exporter": "python",
   "pygments_lexer": "ipython3",
   "version": "3.9.12"
  }
 },
 "nbformat": 4,
 "nbformat_minor": 5
}
